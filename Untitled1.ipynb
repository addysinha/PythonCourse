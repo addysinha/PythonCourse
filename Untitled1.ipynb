{
 "cells": [
  {
   "cell_type": "code",
   "execution_count": 1,
   "metadata": {},
   "outputs": [],
   "source": [
    "import re"
   ]
  },
  {
   "cell_type": "code",
   "execution_count": 5,
   "metadata": {},
   "outputs": [
    {
     "data": {
      "text/plain": [
       "<_sre.SRE_Match object; span=(0, 3), match='Ad3'>"
      ]
     },
     "execution_count": 5,
     "metadata": {},
     "output_type": "execute_result"
    }
   ],
   "source": [
    "re.match('[0-9a-zA-z#]+', 'Ad3.#')"
   ]
  },
  {
   "cell_type": "code",
   "execution_count": 4,
   "metadata": {},
   "outputs": [
    {
     "name": "stdout",
     "output_type": "stream",
     "text": [
      "False\n",
      "False\n"
     ]
    }
   ],
   "source": [
    "import numpy as np\n",
    "x=np.array([0, 0, 0])\n",
    "print(x.all())\n",
    "print(x.any())"
   ]
  },
  {
   "cell_type": "code",
   "execution_count": 7,
   "metadata": {},
   "outputs": [
    {
     "data": {
      "image/png": "[encoded data removed]",
      "text/plain": [
       "<Figure size 432x288 with 1 Axes>"
      ]
     },
     "metadata": {},
     "output_type": "display_data"
    }
   ],
   "source": [
    "# Testing simlation of generating random points \n",
    "from __future__ import division\n",
    "import numpy as np\n",
    "import matplotlib.pyplot as plt\n",
    "from mpl_toolkits.axes_grid1 import host_subplot\n",
    "import mpl_toolkits.axisartist as AA\n",
    "\n",
    "def create_random_point(x0,y0,distance):\n",
    "    \"\"\"\n",
    "            Utility method for simulation of the points\n",
    "    \"\"\"   \n",
    "    r = distance/ 111300\n",
    "    u = np.random.uniform(0,1)\n",
    "    v = np.random.uniform(0,1)\n",
    "    w = r * np.sqrt(u)\n",
    "    t = 2 * np.pi * v\n",
    "    x = w * np.cos(t)\n",
    "    x1 = x / np.cos(y0)\n",
    "    y = w * np.sin(t)\n",
    "    return (x0+x1, y0 +y)\n",
    "\n",
    "fig = plt.figure()\n",
    "ax = host_subplot(111, axes_class=AA.Axes)\n",
    "\n",
    "#ax.set_ylim(76,78)\n",
    "#ax.set_xlim(13,13.1)\n",
    "ax.set_autoscale_on(True)\n",
    "\n",
    "latitude1,longitude1 = 13.04738626,77.61946793  \n",
    "ax.plot(latitude1,longitude1,'ro')\n",
    "\n",
    "for i in range(1,20):\n",
    "    x,y = create_random_point(latitude1,longitude1 ,500 )\n",
    "    ax.plot(x,y,'bo')\n",
    "\n",
    "\n",
    "plt.show()\n"
   ]
  },
  {
   "cell_type": "code",
   "execution_count": 13,
   "metadata": {},
   "outputs": [
    {
     "name": "stdout",
     "output_type": "stream",
     "text": [
      "Result: 666.4471333281743  metres\n"
     ]
    }
   ],
   "source": [
    "from math import sin, cos, sqrt, atan2, radians\n",
    "\n",
    "# approximate radius of earth in km\n",
    "R = 6373.0\n",
    "\n",
    "lat1 = radians(55.8591)\n",
    "lon1 = radians(-4.2603)\n",
    "lat2 = radians(55.865)\n",
    "lon2 = radians(-4.26216)\n",
    "\n",
    "dlon = lon2 - lon1\n",
    "dlat = lat2 - lat1\n",
    "\n",
    "a = sin(dlat / 2)**2 + cos(lat1) * cos(lat2) * sin(dlon / 2)**2\n",
    "c = 2 * atan2(sqrt(a), sqrt(1 - a))\n",
    "\n",
    "distance = R * c * 1000\n",
    "\n",
    "print(\"Result:\", distance, \" metres\")"
   ]
  },
  {
   "cell_type": "code",
   "execution_count": null,
   "metadata": {},
   "outputs": [],
   "source": []
  }
 ],
 "metadata": {
  "kernelspec": {
   "display_name": "Python 3",
   "language": "python",
   "name": "python3"
  },
  "language_info": {
   "codemirror_mode": {
    "name": "ipython",
    "version": 3
   },
   "file_extension": ".py",
   "mimetype": "text/x-python",
   "name": "python",
   "nbconvert_exporter": "python",
   "pygments_lexer": "ipython3",
   "version": "3.6.5"
  }
 },
 "nbformat": 4,
 "nbformat_minor": 2
}
