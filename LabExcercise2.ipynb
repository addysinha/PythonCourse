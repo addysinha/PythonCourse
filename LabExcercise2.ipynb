{
 "cells": [
  {
   "cell_type": "code",
   "execution_count": 1,
   "metadata": {},
   "outputs": [
    {
     "name": "stdout",
     "output_type": "stream",
     "text": [
      "Please enter your name: Addy\n",
      "Please enter your age: 11\n",
      "Too high\n",
      "Too high\n",
      "Too high\n"
     ]
    }
   ],
   "source": [
    "username=input('Please enter your name: ')\n",
    "userage=int(input('Please enter your age: '))\n",
    "\n",
    "if userage < 10:\n",
    "    for i in range(0, userage):\n",
    "        print(username)\n",
    "else:\n",
    "    for i in range(0, 3):\n",
    "        print('Too high')"
   ]
  },
  {
   "cell_type": "code",
   "execution_count": 6,
   "metadata": {},
   "outputs": [
    {
     "name": "stdout",
     "output_type": "stream",
     "text": [
      "Please enter number: 10\n",
      "Do you want to add the entered number in total ? dont\n",
      "Please enter either yes or no\n",
      "Do you want to add the entered number in total ? no\n",
      "Please enter number: 20\n",
      "Do you want to add the entered number in total ? yes\n",
      "Please enter number: 30\n",
      "Do you want to add the entered number in total ? no\n",
      "Please enter number: 40\n",
      "Do you want to add the entered number in total ? yes\n",
      "Please enter number: 50\n",
      "Do you want to add the entered number in total ? no\n",
      "Total:  60.0\n"
     ]
    }
   ],
   "source": [
    "total=0\n",
    "for i in range(0, 5):\n",
    "    value=float(input('Please enter number: '))\n",
    "    menu=''\n",
    "    \n",
    "    while not menu in ('yes', 'no'):\n",
    "        menu=input('Do you want to add the entered number in total ? ')\n",
    "    \n",
    "        if menu.lower() == 'yes':\n",
    "            total+=value\n",
    "        elif menu.lower() == 'no':\n",
    "            continue\n",
    "        else:\n",
    "            print('Please enter either yes or no')\n",
    "\n",
    "print('Total: ', total)"
   ]
  },
  {
   "cell_type": "code",
   "execution_count": 4,
   "metadata": {},
   "outputs": [
    {
     "name": "stdout",
     "output_type": "stream",
     "text": [
      "Please enter the direction of count (up/down) ? down\n",
      "Please enter the number ? 20\n",
      "Please enter the number less than 20 ? 19\n",
      "20\n",
      "19\n"
     ]
    }
   ],
   "source": [
    "menu=''\n",
    "while not menu in ('up', 'down'):\n",
    "    menu=input('Please enter the direction of count (up/down) ? ')\n",
    "    if not menu in ('up', 'down'):\n",
    "        print('I don\\'t understand!')\n",
    "    else:\n",
    "        num=int(input('Please enter the number ? '))\n",
    "        if menu.lower() == 'up':\n",
    "            for i in range(1, num+1, 1):\n",
    "                print(i)\n",
    "        elif menu.lower() == 'down':\n",
    "            while num >= 20:\n",
    "                num=int(input('Please enter the number less than 20 ? '))\n",
    "            for i in range(20,num-1, -1):\n",
    "                print(i)"
   ]
  },
  {
   "cell_type": "code",
   "execution_count": 8,
   "metadata": {},
   "outputs": [
    {
     "name": "stdout",
     "output_type": "stream",
     "text": [
      "Please enter number 1: 10\n",
      "Please enter number 2: 20\n",
      "Do you want to add more numbers ? (type y/n) ? y\n",
      "Please add the number ? 30\n",
      "Do you want to add more numbers ? (type y/n) ? y\n",
      "Please add the number ? 40\n",
      "Do you want to add more numbers ? (type y/n) ? n\n",
      "Total value =  100\n"
     ]
    }
   ],
   "source": [
    "num1=int(input('Please enter number 1: '))\n",
    "num2=int(input('Please enter number 2: '))\n",
    "total=num1+num2\n",
    "menu='y'\n",
    "while menu == 'y':\n",
    "    menu=input('Do you want to add more numbers ? (type y/n) ? ')\n",
    "    if menu.lower() == 'y':\n",
    "        total+=int(input('Please add the number ? '))\n",
    "print('Total value = ', total)"
   ]
  },
  {
   "cell_type": "code",
   "execution_count": 1,
   "metadata": {},
   "outputs": [
    {
     "name": "stdout",
     "output_type": "stream",
     "text": [
      "Please guess the number ? 10\n",
      "Entered number is less than actual number. Please select a higher number ? 20\n",
      "Entered number is less than actual number. Please select a higher number ? 30\n",
      "Entered number is less than actual number. Please select a higher number ? 49\n",
      "Entered number is less than actual number. Please select a higher number ? 51\n",
      "Entered number is greater than actual number. Please select a lower number ? 50\n",
      "You have got it right in  5  attempts.\n"
     ]
    }
   ],
   "source": [
    "compnum=50\n",
    "count=0\n",
    "num=int(input('Please guess the number ? '))\n",
    "while num != compnum:\n",
    "    if num > compnum:\n",
    "        num=int(input('Entered number is greater than actual number. Please select a lower number ? '))\n",
    "    elif num < compnum:\n",
    "        num=int(input('Entered number is less than actual number. Please select a higher number ? '))\n",
    "    count+=1\n",
    "else:\n",
    "    print('You have got it right in ', count, ' attempts.')"
   ]
  },
  {
   "cell_type": "code",
   "execution_count": 5,
   "metadata": {},
   "outputs": [
    {
     "name": "stdout",
     "output_type": "stream",
     "text": [
      "Enter the number of Green bottles ? 4\n",
      "There are  4  green bottles hanging on the wall,  4  green bottle hanging on the wall, and is 1 green bottle should accidentally fall ?\n",
      "how many green bottles will be hanging on the wall ? 3\n",
      "There will be  3  green bottles hanging on the wall\n",
      "how many green bottles will be hanging on the wall ? 2\n",
      "There will be  2  green bottles hanging on the wall\n",
      "how many green bottles will be hanging on the wall ? 1\n",
      "There will be  1  green bottles hanging on the wall\n",
      "how many green bottles will be hanging on the wall ? 0\n",
      "There are no more green bottles hanging on the wall\n"
     ]
    }
   ],
   "source": [
    "total=int(input('Enter the number of Green bottles ? '))\n",
    "print('There are ', total, ' green bottles hanging on the wall, ', total, \n",
    "      ' green bottle hanging on the wall, and is 1 green bottle should accidentally fall ?')\n",
    "num=-1\n",
    "while num != 0:\n",
    "    num=int(input('how many green bottles will be hanging on the wall ? '))\n",
    "    if num != total-1:\n",
    "        print('Try again')\n",
    "    else:\n",
    "        total-=1\n",
    "        if total != 0:\n",
    "            print('There will be ', total, ' green bottles hanging on the wall')\n",
    "else:\n",
    "    print('There are no more green bottles hanging on the wall')"
   ]
  },
  {
   "cell_type": "code",
   "execution_count": 10,
   "metadata": {},
   "outputs": [
    {
     "name": "stdout",
     "output_type": "stream",
     "text": [
      "Please enter a number ? 4\n",
      "1\n",
      "2\n",
      "3\n",
      "4\n"
     ]
    }
   ],
   "source": [
    "def enternum():\n",
    "    num=int(input('Please enter a number ? '))\n",
    "    return num\n",
    "\n",
    "def countnum(num):\n",
    "    for i in range(1, num+1):\n",
    "        print(i)\n",
    "\n",
    "value=enternum()\n",
    "countnum(value)"
   ]
  },
  {
   "cell_type": "code",
   "execution_count": 12,
   "metadata": {},
   "outputs": [
    {
     "name": "stdout",
     "output_type": "stream",
     "text": [
      "Menu\n",
      "    1) Add Name (press a)\n",
      "    2) Remove Name (press r)\n",
      "    3) Change Name (press c)\n",
      "    4) View Names (press v)\n",
      "    5) Exit (press x)a\n",
      "Please enter a name to add ?Addy\n",
      "Menu\n",
      "    1) Add Name (press a)\n",
      "    2) Remove Name (press r)\n",
      "    3) Change Name (press c)\n",
      "    4) View Names (press v)\n",
      "    5) Exit (press x)v\n",
      "Names in the list:  ['Addy']\n",
      "Menu\n",
      "    1) Add Name (press a)\n",
      "    2) Remove Name (press r)\n",
      "    3) Change Name (press c)\n",
      "    4) View Names (press v)\n",
      "    5) Exit (press x)a\n",
      "Please enter a name to add ?Astha\n",
      "Menu\n",
      "    1) Add Name (press a)\n",
      "    2) Remove Name (press r)\n",
      "    3) Change Name (press c)\n",
      "    4) View Names (press v)\n",
      "    5) Exit (press x)v\n",
      "Names in the list:  ['Addy', 'Astha']\n",
      "Menu\n",
      "    1) Add Name (press a)\n",
      "    2) Remove Name (press r)\n",
      "    3) Change Name (press c)\n",
      "    4) View Names (press v)\n",
      "    5) Exit (press x)c\n",
      "Please enter the name to be changed ?Addy\n",
      "Please enter the new name to be changed to ?Abhy\n",
      "Menu\n",
      "    1) Add Name (press a)\n",
      "    2) Remove Name (press r)\n",
      "    3) Change Name (press c)\n",
      "    4) View Names (press v)\n",
      "    5) Exit (press x)v\n",
      "Names in the list:  ['Abhy', 'Astha']\n",
      "Menu\n",
      "    1) Add Name (press a)\n",
      "    2) Remove Name (press r)\n",
      "    3) Change Name (press c)\n",
      "    4) View Names (press v)\n",
      "    5) Exit (press x)r\n",
      "Please enter a name to be removed ?Abhy\n",
      "Menu\n",
      "    1) Add Name (press a)\n",
      "    2) Remove Name (press r)\n",
      "    3) Change Name (press c)\n",
      "    4) View Names (press v)\n",
      "    5) Exit (press x)v\n",
      "Names in the list:  ['Astha']\n",
      "Menu\n",
      "    1) Add Name (press a)\n",
      "    2) Remove Name (press r)\n",
      "    3) Change Name (press c)\n",
      "    4) View Names (press v)\n",
      "    5) Exit (press x)x\n"
     ]
    }
   ],
   "source": [
    "def addname(namelist):\n",
    "    name=input('Please enter a name to add ?')\n",
    "    namelist.append(name)\n",
    "    return namelist\n",
    "\n",
    "def removename(namelist, name):\n",
    "    namelist.remove(name)\n",
    "    return namelist\n",
    "\n",
    "def changename(namelist, oldname, newname):\n",
    "    namelist[namelist.index(oldname)] = newname\n",
    "    return namelist\n",
    "\n",
    "def viewnames(namelist):\n",
    "    print('Names in the list: ', namelist)\n",
    "\n",
    "menu=''\n",
    "namelist=list()\n",
    "while menu != 'x':\n",
    "    menu=input('''Menu\n",
    "    1) Add Name (press a)\n",
    "    2) Remove Name (press r)\n",
    "    3) Change Name (press c)\n",
    "    4) View Names (press v)\n",
    "    5) Exit (press x)''')\n",
    "    \n",
    "    if menu.lower() == 'a':\n",
    "        namelist=addname(namelist)\n",
    "    elif menu.lower() == 'r':\n",
    "        remname=input('Please enter a name to be removed ?')\n",
    "        namelist=removename(namelist, remname)\n",
    "    elif menu.lower() == 'c':\n",
    "        chname=input('Please enter the name to be changed ?')\n",
    "        newname=input('Please enter the new name to be changed to ?')\n",
    "        namelist=changename(namelist, chname, newname)\n",
    "    elif menu.lower() == 'v':\n",
    "        viewnames(namelist)"
   ]
  },
  {
   "cell_type": "code",
   "execution_count": 17,
   "metadata": {},
   "outputs": [
    {
     "name": "stdout",
     "output_type": "stream",
     "text": [
      "Berries\n"
     ]
    }
   ],
   "source": [
    "import random\n",
    "print(random.choice(['Apple', 'Orange', 'Banana', 'Mango', 'Berries']))"
   ]
  },
  {
   "cell_type": "code",
   "execution_count": 22,
   "metadata": {},
   "outputs": [
    {
     "name": "stdout",
     "output_type": "stream",
     "text": [
      "Please choose heads (enter h) or tails (enter t) ?h\n",
      "You win, as the computer selected  h\n"
     ]
    }
   ],
   "source": [
    "import random\n",
    "choice=random.choice(['h', 't'])\n",
    "if input('Please choose heads (enter h) or tails (enter t) ?') == choice:\n",
    "    print('You win, as the computer selected ', choice)\n",
    "else:\n",
    "    print('Bad luck. Try again, as the computer selected ', choice)"
   ]
  },
  {
   "cell_type": "code",
   "execution_count": 2,
   "metadata": {},
   "outputs": [
    {
     "name": "stdout",
     "output_type": "stream",
     "text": [
      "1\n",
      "Please guess a number between 1 and 5, inclusive ?3\n",
      "You have selected a higher number. Please try second time ?\n",
      "Please guess a number between 1 and 5, inclusive ?1\n",
      "Well done!\n"
     ]
    }
   ],
   "source": [
    "import random\n",
    "ranum=random.randint(1, 5)\n",
    "print(ranum)\n",
    "for i in range(0, 2):\n",
    "    unum=int(input('Please guess a number between 1 and 5, inclusive ?'))\n",
    "    if ranum > unum and i == 0:\n",
    "        print('You have selected a lower number. Please try second time ?')\n",
    "    elif ranum < unum and i == 0:\n",
    "        print('You have selected a higher number. Please try second time ?')\n",
    "    elif ranum == unum:\n",
    "        print('Well done!')\n",
    "        break\n",
    "    elif i == 1 and ranum != unum:\n",
    "        print('You loose!')"
   ]
  },
  {
   "cell_type": "code",
   "execution_count": 4,
   "metadata": {},
   "outputs": [
    {
     "name": "stdout",
     "output_type": "stream",
     "text": [
      "Menu:\n",
      "    1. Red\n",
      "    2. Green\n",
      "    3. Blue\n",
      "    4. Purple\n",
      "    5. Black\n",
      "    Please select a color of your choice ?red\n",
      "You should be feeling  blue\n",
      "Menu:\n",
      "    1. Red\n",
      "    2. Green\n",
      "    3. Blue\n",
      "    4. Purple\n",
      "    5. Black\n",
      "    Please select a color of your choice ?blue\n",
      "Well done\n"
     ]
    }
   ],
   "source": [
    "rand=random.choice(['red', 'green', 'blue', 'purple', 'black'])\n",
    "color=''\n",
    "while color != rand:\n",
    "    color=input('''Menu:\n",
    "    1. Red\n",
    "    2. Green\n",
    "    3. Blue\n",
    "    4. Purple\n",
    "    5. Black\n",
    "    Please select a color of your choice ?''')\n",
    "\n",
    "    if color != rand:\n",
    "        print('You should be feeling ', rand)\n",
    "    else:\n",
    "        print('Well done')"
   ]
  },
  {
   "cell_type": "code",
   "execution_count": 2,
   "metadata": {},
   "outputs": [],
   "source": [
    "import turtle\n",
    "turtle.circle(10)\n",
    "turtle.exitonclick()"
   ]
  },
  {
   "cell_type": "code",
   "execution_count": 4,
   "metadata": {},
   "outputs": [],
   "source": [
    "import turtle\n",
    "import random\n",
    "\n",
    "turtle.color(random.choice(['red', 'green', 'blue']))\n",
    "for i in range(0, 8):\n",
    "    turtle.forward(100)\n",
    "    turtle.right(45)\n",
    "\n",
    "turtle.exitonclick()"
   ]
  },
  {
   "cell_type": "code",
   "execution_count": 6,
   "metadata": {},
   "outputs": [
    {
     "name": "stdout",
     "output_type": "stream",
     "text": [
      "Please enter the number of lines ?4\n",
      "Please enter the length of Line 1 ? 100\n",
      "Please enter the angle of Line 1 ? 90\n",
      "Please enter the length of Line 2 ? 100\n",
      "Please enter the angle of Line 2 ? 90\n",
      "Please enter the length of Line 3 ? 100\n",
      "Please enter the angle of Line 3 ? 90\n",
      "Please enter the length of Line 4 ? 100\n",
      "Please enter the angle of Line 4 ? 90\n"
     ]
    }
   ],
   "source": [
    "import turtle\n",
    "\n",
    "num=int(input('Please enter the number of lines ?'))\n",
    "length=list()\n",
    "angle=list()\n",
    "for i in range(0, num, 1):\n",
    "    length.append(int(input('Please enter the length of Line ' + str(i+1) + ' ? ')))\n",
    "    angle.append(int(input('Please enter the angle of Line ' + str(i+1) + ' ? ')))\n",
    "\n",
    "for i in range(0, num, 1):\n",
    "    turtle.forward(length[i])\n",
    "    turtle.right(angle[i])\n",
    "\n",
    "turtle.exitonclick()"
   ]
  },
  {
   "cell_type": "code",
   "execution_count": 26,
   "metadata": {},
   "outputs": [
    {
     "name": "stdout",
     "output_type": "stream",
     "text": [
      "100\n",
      "200\n",
      "300\n",
      "400\n",
      "Please select a number to search the list ?300\n",
      "The entered number is at index  2\n"
     ]
    }
   ],
   "source": [
    "mylist=list([100, 200, 300, 400])\n",
    "for i in range(0, len(mylist)):\n",
    "    print(mylist[i])\n",
    "\n",
    "mynum=int(input('Please select a number to search the list ?'))\n",
    "if mynum in mylist:\n",
    "    print('The entered number is at index ', mylist.index(mynum))\n",
    "else:\n",
    "    print('That is not in the list')"
   ]
  },
  {
   "cell_type": "code",
   "execution_count": 30,
   "metadata": {},
   "outputs": [
    {
     "name": "stdout",
     "output_type": "stream",
     "text": [
      "Please enter the name of person1Addy\n",
      "Please enter the name of person2Astha\n",
      "Please enter the name of person3Taksh\n",
      "Do you want to invite anymore ?y\n",
      "Please enter the name ?Rita\n",
      "Do you want to invite anymore ?y\n",
      "Please enter the name ?Uday\n",
      "Do you want to invite anymore ?n\n",
      "Invited people names are:  ['Addy', 'Astha', 'Taksh', 'Rita', 'Uday']\n"
     ]
    }
   ],
   "source": [
    "mylist=list()\n",
    "for i in range(0, 3):\n",
    "    mylist.append(input('Please enter the name of person' + str(i+1)))\n",
    "\n",
    "menu=''\n",
    "while menu != 'n':\n",
    "    menu=input('Do you want to invite anymore ?')\n",
    "    if menu == 'y':\n",
    "        mylist.append(input('Please enter the name ?'))\n",
    "else:\n",
    "    print('Invited people names are: ', mylist)"
   ]
  },
  {
   "cell_type": "code",
   "execution_count": 42,
   "metadata": {},
   "outputs": [
    {
     "name": "stdout",
     "output_type": "stream",
     "text": [
      "Please enter name of your favourite food ? f\n",
      "Please enter name of your favourite food ? g\n",
      "Please enter name of your favourite food ? t\n",
      "Please enter name of your favourite food ? e\n",
      "Key:  1  Value:  f\n",
      "Key:  2  Value:  g\n",
      "Key:  3  Value:  t\n",
      "Key:  4  Value:  e\n",
      "Please provide the key you want to remove from the dictionary ? 4\n",
      "Please provide the value you want to remove from the dictionary ? e\n",
      "Key:  4  Value:  e  has been deleted.\n",
      "{1: 'f', 2: 'g', 3: 't'}\n"
     ]
    }
   ],
   "source": [
    "mydict=dict()\n",
    "for i in range(0, 4):\n",
    "    mydict[i+1]=input('Please enter name of your favourite food ? ')\n",
    "\n",
    "for key, value in mydict.items():\n",
    "    print('Key: ', key, ' Value: ', value)\n",
    "\n",
    "key=int(input('Please provide the key you want to remove from the dictionary ? '))\n",
    "value=input('Please provide the value you want to remove from the dictionary ? ')\n",
    "\n",
    "if key in mydict.keys():\n",
    "    if value == mydict[key]:\n",
    "        del mydict[key]\n",
    "        print('Key: ', key, ' Value: ', value, ' has been deleted.')\n",
    "    else:\n",
    "        print('Incorrect Value!')\n",
    "else:\n",
    "    print('Incorrect Key!')\n",
    "\n",
    "sorted(mydict.values())\n",
    "print(mydict)"
   ]
  },
  {
   "cell_type": "code",
   "execution_count": 44,
   "metadata": {},
   "outputs": [
    {
     "name": "stdout",
     "output_type": "stream",
     "text": [
      "India\n",
      "UK\n",
      "USA\n",
      "Canada\n",
      "Australia\n",
      "Please enter name of the country from above list : India\n",
      "Value available at index  0\n",
      "Please enter the index value ? 3\n",
      "Value at index  3  is:  Canada\n"
     ]
    }
   ],
   "source": [
    "mytup=('India', 'UK', 'USA', 'Canada', 'Australia')\n",
    "for i in mytup:\n",
    "    print(i)\n",
    "menu=input('Please enter name of the country from above list : ')\n",
    "\n",
    "if menu in mytup:\n",
    "    print('Value available at index ', mytup.index(menu))\n",
    "else:\n",
    "    print('Value not found')\n",
    "\n",
    "menu=int(input('Please enter the index value ? '))\n",
    "\n",
    "if menu > 0 and menu < len(mytup)-1:\n",
    "    print('Value at index ', menu, ' is: ', mytup[menu])\n",
    "else:\n",
    "    print('Incorrect index value')"
   ]
  },
  {
   "cell_type": "code",
   "execution_count": 70,
   "metadata": {},
   "outputs": [
    {
     "name": "stdout",
     "output_type": "stream",
     "text": [
      "Please enter number 1: 1\n",
      "Please enter number 2: 2\n",
      "Please enter number 3: 3\n",
      "Please enter number 4: 34\n",
      "Please enter number 5: 5\n",
      "[34, 5, 3, 2, 1]\n"
     ]
    }
   ],
   "source": [
    "from array import *\n",
    "\n",
    "arr=[]\n",
    "for i in range(0, 5):\n",
    "    arr.append(int(input('Please enter number ' + str(i+1) + ': ')))\n",
    "\n",
    "arr.sort(reverse=True)\n",
    "print(arr)"
   ]
  },
  {
   "cell_type": "code",
   "execution_count": 60,
   "metadata": {},
   "outputs": [
    {
     "name": "stdout",
     "output_type": "stream",
     "text": [
      "4\n",
      "1\n",
      "1\n",
      "2\n",
      "1\n"
     ]
    }
   ],
   "source": [
    "from array import *\n",
    "import random\n",
    "\n",
    "arr=[]\n",
    "for i in range(0, 5):\n",
    "    arr.append(random.randint(1, 5))\n",
    "\n",
    "for i in arr:\n",
    "    print(i)"
   ]
  },
  {
   "cell_type": "code",
   "execution_count": 8,
   "metadata": {},
   "outputs": [
    {
     "name": "stdout",
     "output_type": "stream",
     "text": [
      "Please enter a number: 1\n",
      "Please enter a number: 2\n",
      "Please enter a number: 3\n",
      "1\n",
      "2\n",
      "2\n",
      "2\n",
      "2\n",
      "3\n",
      "4\n",
      "5\n"
     ]
    }
   ],
   "source": [
    "import random\n",
    "\n",
    "tarr=[]\n",
    "for i in range(0,3):\n",
    "    tarr.append(int(input('Please enter a number: ')))\n",
    "\n",
    "farr=[]\n",
    "for i in range(0, 5):\n",
    "    farr.append(random.randint(1, 5))\n",
    "\n",
    "finalarr=[]\n",
    "finalarr=tarr+farr\n",
    "#finalarr.extend(tarr)\n",
    "#finalarr.extend(farr)\n",
    "\n",
    "finalarr.sort()\n",
    "for i in finalarr:\n",
    "    print(i)"
   ]
  },
  {
   "cell_type": "code",
   "execution_count": 74,
   "metadata": {},
   "outputs": [
    {
     "name": "stdout",
     "output_type": "stream",
     "text": [
      "Please enter a number: 1\n",
      "Please enter a number: 2\n",
      "Please enter a number: 3\n",
      "Please enter a number: 4\n",
      "Please enter a number: 5\n",
      "Entered number in sorted order\n",
      "1\n",
      "2\n",
      "3\n",
      "4\n",
      "5\n",
      "Please enter a number from above to remove: 3\n",
      "1\n",
      "2\n",
      "4\n",
      "5\n"
     ]
    }
   ],
   "source": [
    "from array import *\n",
    "\n",
    "arr=[]\n",
    "for i in range(0, 5):\n",
    "    arr.append(int(input('Please enter a number: ')))\n",
    "\n",
    "print('Entered number in sorted order')\n",
    "arr.sort()\n",
    "for i in arr:\n",
    "     print(i)\n",
    "\n",
    "sel=int(input('Please enter a number from above to remove: '))\n",
    "arr.remove(sel)\n",
    "\n",
    "finalarr=arr\n",
    "for i in finalarr:\n",
    "    print(i)"
   ]
  },
  {
   "cell_type": "code",
   "execution_count": 78,
   "metadata": {},
   "outputs": [
    {
     "name": "stdout",
     "output_type": "stream",
     "text": [
      "Stored array list is: \n",
      "1\n",
      "2\n",
      "3\n",
      "4\n",
      "5\n",
      "Please enter a number from above list to know its position ? 1\n",
      "Selected number is at position:  0\n"
     ]
    }
   ],
   "source": [
    "from array import *\n",
    "\n",
    "arr=[1, 2, 3, 4, 5]\n",
    "print('Stored array list is: ')\n",
    "for i in arr:\n",
    "    print(i)\n",
    "\n",
    "sel=''\n",
    "while not sel in arr:\n",
    "    sel=int(input('Please enter a number from above list to know its position ? '))\n",
    "    if sel in arr:\n",
    "        print('Selected number is at position: ', arr.index(sel))\n",
    "    else:\n",
    "        print('You didnt select the number from the mentioned list')"
   ]
  },
  {
   "cell_type": "code",
   "execution_count": 86,
   "metadata": {},
   "outputs": [
    {
     "name": "stdout",
     "output_type": "stream",
     "text": [
      "Please enter a whole number between 2 and 5 - inclusive: 1\n",
      "Please enter a whole number between 2 and 5 - inclusive: 6\n",
      "Please enter a whole number between 2 and 5 - inclusive: 5\n",
      "['2.00', '6.00', '10.00', '14.00', '20.00']\n"
     ]
    }
   ],
   "source": [
    "arr=[10.00, 30.00, 50.00, 70.00, 100.00]\n",
    "sel=''\n",
    "finalarr=[]\n",
    "while not sel in range(2, 6, 1):\n",
    "    sel=int(input('Please enter a whole number between 2 and 5 - inclusive: '))\n",
    "    if sel in range(2, 6, 1):\n",
    "        for i in arr:\n",
    "            finalarr.append(format((i/sel), '.2f'))\n",
    "\n",
    "print(finalarr)"
   ]
  },
  {
   "cell_type": "code",
   "execution_count": 92,
   "metadata": {},
   "outputs": [
    {
     "name": "stdout",
     "output_type": "stream",
     "text": [
      "Array:  [[2, 5, 8], [3, 7, 4], [1, 6, 9], [4, 2, 0]]\n",
      "Please enter a row number? 1\n",
      "Please enter a column number? 2\n",
      "Value at the selected position:  4\n"
     ]
    }
   ],
   "source": [
    "arr=[[2, 5, 8],[3, 7, 4],[1, 6, 9], [4, 2, 0]]\n",
    "print('Array: ', arr)\n",
    "row=int(input('Please enter a row number? '))\n",
    "col=int(input('Please enter a column number? '))\n",
    "print('Value at the selected position: ', arr[row][col])"
   ]
  },
  {
   "cell_type": "code",
   "execution_count": 94,
   "metadata": {},
   "outputs": [
    {
     "name": "stdout",
     "output_type": "stream",
     "text": [
      "Array:  [[2, 5, 8], [3, 7, 4], [1, 6, 9], [4, 2, 0]]\n",
      "Please enter the row you want to see ?1\n",
      "Your selected row:  [3, 7, 4]\n",
      "Please enter a value to append: 5\n",
      "Your added value now looks like:  [3, 7, 4, 5]\n"
     ]
    }
   ],
   "source": [
    "arr=[[2, 5, 8],[3, 7, 4],[1, 6, 9], [4, 2, 0]]\n",
    "print('Array: ', arr)\n",
    "\n",
    "row=int(input('Please enter the row you want to see ?'))\n",
    "rowlist=arr[row]\n",
    "print('Your selected row: ', rowlist)\n",
    "\n",
    "addval=int(input('Please enter a value to append: '))\n",
    "rowlist.append(addval)\n",
    "print('Your added value now looks like: ', rowlist)"
   ]
  },
  {
   "cell_type": "code",
   "execution_count": 96,
   "metadata": {},
   "outputs": [
    {
     "name": "stdout",
     "output_type": "stream",
     "text": [
      "Array:  [[2, 5, 8], [3, 7, 4], [1, 6, 9], [4, 2, 0]]\n",
      "Please enter the row you want to see ?1\n",
      "Your selected row:  [3, 7, 4]\n",
      "Please enter the column you want to see ?1\n",
      "Your selected value:  7\n",
      "Please enter a new value: 5\n",
      "Your new array now looks like:  [[2, 5, 8], [3, 5, 4], [1, 6, 9], [4, 2, 0]]\n"
     ]
    }
   ],
   "source": [
    "arr=[[2, 5, 8],[3, 7, 4],[1, 6, 9], [4, 2, 0]]\n",
    "print('Array: ', arr)\n",
    "\n",
    "row=int(input('Please enter the row you want to see ?'))\n",
    "rowlist=arr[row]\n",
    "print('Your selected row: ', rowlist)\n",
    "\n",
    "col=int(input('Please enter the column you want to see ?'))\n",
    "print('Your selected value: ', arr[row][col])\n",
    "\n",
    "addval=int(input('Please enter a new value: '))\n",
    "arr[row][col]=addval\n",
    "\n",
    "print('Your new array now looks like: ', arr)"
   ]
  },
  {
   "cell_type": "code",
   "execution_count": 132,
   "metadata": {},
   "outputs": [
    {
     "name": "stdout",
     "output_type": "stream",
     "text": [
      "Please enter your name: a\n",
      "Please enter your age: 1\n",
      "Please enter your size: 1\n",
      "Please enter your name: b\n",
      "Please enter your age: 2\n",
      "Please enter your size: 2\n",
      "[['a', 1, 1], ['b', 2, 2]]\n",
      "Name and age of all 4 persons are:  [['a' '1']\n",
      " ['b' '2']]\n"
     ]
    }
   ],
   "source": [
    "import numpy as np\n",
    "arr=[]\n",
    "\n",
    "for i in range(0, 2):\n",
    "    name=input('Please enter your name: ')\n",
    "    age=int(input('Please enter your age: '))\n",
    "    size=int(input('Please enter your size: '))\n",
    "    arr.append([name, age, size])\n",
    "\n",
    "print(arr)\n",
    "print('Name and age of all 4 persons are: ', np.array(arr)[:,0:2])"
   ]
  },
  {
   "cell_type": "code",
   "execution_count": 107,
   "metadata": {},
   "outputs": [
    {
     "name": "stdout",
     "output_type": "stream",
     "text": [
      "Please enter your name: a\n",
      "Please enter your age: 1\n",
      "Please enter your size: 1\n",
      "Please enter your name: b\n",
      "Please enter your age: 2\n",
      "Please enter your size: 2\n",
      "Please enter your name: c\n",
      "Please enter your age: 3\n",
      "Please enter your size: 3\n",
      "Please enter your name: d\n",
      "Please enter your age: 4\n",
      "Please enter your size: 4\n",
      "Please enter the name of the person you want to remove ?b\n",
      "New array  [['a', 1, 1], ['c', 3, 3], ['d', 4, 4]]\n"
     ]
    }
   ],
   "source": [
    "arr=[]\n",
    "for i in range(0, 4):\n",
    "    name=input('Please enter your name: ')\n",
    "    age=int(input('Please enter your age: '))\n",
    "    size=int(input('Please enter your size: '))\n",
    "    arr.append([name, age, size])\n",
    "\n",
    "arr\n",
    "name=input('Please enter the name of the person you want to remove ?')\n",
    "newarr=[r for r in arr if r[0] != name]\n",
    "\n",
    "print('New array ', newarr)"
   ]
  },
  {
   "cell_type": "code",
   "execution_count": null,
   "metadata": {},
   "outputs": [],
   "source": []
  }
 ],
 "metadata": {
  "kernelspec": {
   "display_name": "Python 3",
   "language": "python",
   "name": "python3"
  },
  "language_info": {
   "codemirror_mode": {
    "name": "ipython",
    "version": 3
   },
   "file_extension": ".py",
   "mimetype": "text/x-python",
   "name": "python",
   "nbconvert_exporter": "python",
   "pygments_lexer": "ipython3",
   "version": "3.6.5"
  }
 },
 "nbformat": 4,
 "nbformat_minor": 2
}
