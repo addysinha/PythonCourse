{
 "cells": [
  {
   "cell_type": "code",
   "execution_count": 4,
   "metadata": {},
   "outputs": [
    {
     "name": "stdout",
     "output_type": "stream",
     "text": [
      "Please enter the number of loaves of day old bread being purchased: 10\n",
      "Price of loaves of bread: GBP 3.49 each\n",
      "Price of day old loaves of bread:  1.40  GBP\n",
      "Total Price of purchased loaves:  13.96  GBP\n"
     ]
    }
   ],
   "source": [
    "num=int(input('Please enter the number of loaves of day old bread being purchased: '))\n",
    "print('Price of loaves of bread: GBP 3.49 each')\n",
    "print('Price of day old loaves of bread: ', format(3.49*0.4, '.2f'), ' GBP')\n",
    "print('Total Price of purchased loaves: ', format(num*3.49*0.4, '.2f'), ' GBP')"
   ]
  },
  {
   "cell_type": "code",
   "execution_count": 5,
   "metadata": {},
   "outputs": [
    {
     "name": "stdout",
     "output_type": "stream",
     "text": [
      "Please input first line of song: songname\n",
      "length of first line of song:  8\n",
      "Please enter the start num: 2\n",
      "Please enter the end num: 5\n",
      "section of requested string:  ongn\n"
     ]
    }
   ],
   "source": [
    "fls=input('Please input first line of song: ')\n",
    "print('length of first line of song: ', len(fls))\n",
    "startnum=int(input('Please enter the start num: '))\n",
    "endnum=int(input('Please enter the end num: '))\n",
    "print('section of requested string: ', fls[startnum-1:endnum])"
   ]
  },
  {
   "cell_type": "code",
   "execution_count": 26,
   "metadata": {
    "scrolled": true
   },
   "outputs": [
    {
     "name": "stdout",
     "output_type": "stream",
     "text": [
      "Please enter a word: dad\n",
      "Pig Latin word is:  adday\n"
     ]
    }
   ],
   "source": [
    "word=input('Please enter a word: ')\n",
    "piglatin=0\n",
    "for i in ('a', 'e', 'i', 'o' ,'u'):\n",
    "    if word[0] == i:\n",
    "        print('Pig Latin word is: ', word+'way')\n",
    "        piglatin=1\n",
    "\n",
    "if piglatin == 0:\n",
    "    print('Pig Latin word is: ', word[1:]+word[0]+'ay')"
   ]
  },
  {
   "cell_type": "code",
   "execution_count": 7,
   "metadata": {},
   "outputs": [
    {
     "name": "stdout",
     "output_type": "stream",
     "text": [
      "Tell if raining: yes\n",
      "Tell if windy: yes\n",
      "Its too windy for an umbrella\n"
     ]
    }
   ],
   "source": [
    "chkrain=input('Tell if raining: ')\n",
    "if chkrain.lower() == 'yes':\n",
    "    chkwind=input('Tell if windy: ')\n",
    "    if chkwind.lower() == 'yes':\n",
    "        print('Its too windy for an umbrella')\n",
    "    else:\n",
    "        print('Take an umbrella')\n",
    "else:\n",
    "    print('Enjoy your day')"
   ]
  },
  {
   "cell_type": "code",
   "execution_count": 8,
   "metadata": {},
   "outputs": [
    {
     "name": "stdout",
     "output_type": "stream",
     "text": [
      "Please enter your age:10\n",
      "You can go trick-or-treating\n"
     ]
    }
   ],
   "source": [
    "age=int(input('Please enter your age:'))\n",
    "if age >= 18:\n",
    "    print('You can vote.')\n",
    "elif age == 17:\n",
    "    print('You can learn how to drive.')\n",
    "elif age == 16:\n",
    "    print('You can buy a lottery ticket.')\n",
    "elif age < 16:\n",
    "    print('You can go trick-or-treating')"
   ]
  },
  {
   "cell_type": "code",
   "execution_count": 9,
   "metadata": {},
   "outputs": [
    {
     "name": "stdout",
     "output_type": "stream",
     "text": [
      "Please enter a number: 4\n",
      "Entered value:  4  is an even number\n"
     ]
    }
   ],
   "source": [
    "val=int(input('Please enter a number: '))\n",
    "if val%2 == 0:\n",
    "    print('Entered value: ', val, ' is an even number')\n",
    "else:\n",
    "    print('Entered value: ', val, ' is an odd number')"
   ]
  },
  {
   "cell_type": "code",
   "execution_count": 10,
   "metadata": {},
   "outputs": [
    {
     "name": "stdout",
     "output_type": "stream",
     "text": [
      "Please enter a letter: letter\n",
      "Entered letter  letter  is a consonant.\n"
     ]
    }
   ],
   "source": [
    "letter=input('Please enter a letter: ')\n",
    "chk=0\n",
    "for i in ('a', 'e', 'i', 'o', 'u'):\n",
    "    if letter.lower() == i:\n",
    "        print ('Entered letter ', letter, ' is a vowel.')\n",
    "        chk=1\n",
    "\n",
    "if letter.lower() == 'y':\n",
    "    print('Entered letter ', letter, ' is sometimes a vowel or consonant.')\n",
    "elif chk == 0:\n",
    "    print ('Entered letter ', letter, ' is a consonant.')"
   ]
  },
  {
   "cell_type": "code",
   "execution_count": 11,
   "metadata": {},
   "outputs": [
    {
     "name": "stdout",
     "output_type": "stream",
     "text": [
      "Please enter the number of sides: 8\n",
      "Its an octagon\n"
     ]
    }
   ],
   "source": [
    "num=int(input('Please enter the number of sides: '))\n",
    "if 3 <= num <= 10:\n",
    "    if num == 3:\n",
    "        print('Its a triangle')\n",
    "    if num == 4:\n",
    "        print('Its a square or rectangle')\n",
    "    if num == 5:\n",
    "        print('Its a pentagon')\n",
    "    if num == 6:\n",
    "        print('Its a hexagon')\n",
    "    if num == 7:\n",
    "        print('Its a heptagon')\n",
    "    if num == 8:\n",
    "        print('Its an octagon')\n",
    "    if num == 9:\n",
    "        print('Its an enneagon')\n",
    "    if num == 10:\n",
    "        print('Its a decagon')\n",
    "else:\n",
    "    print('Error: Please enter number of sides between 3 and 10 inclusive')"
   ]
  },
  {
   "cell_type": "code",
   "execution_count": 3,
   "metadata": {},
   "outputs": [
    {
     "name": "stdout",
     "output_type": "stream",
     "text": [
      "Please enter the length first side: 10\n",
      "Please enter the length second side: 20\n",
      "Please enter the length third side: 30\n",
      "Its a scalene triangle\n"
     ]
    }
   ],
   "source": [
    "firside=int(input('Please enter the length first side: '))\n",
    "secside=int(input('Please enter the length second side: '))\n",
    "thside=int(input('Please enter the length third side: '))\n",
    "\n",
    "if firside == secside == thside:\n",
    "    print('Its an equilateral triangle')\n",
    "elif (firside == secside and firside != thside) or (firside == thside and firside != secside) or (secside == thside and firside != secside):\n",
    "    print('Its an isoceles triange')\n",
    "elif firside != secside != thside:\n",
    "    print('Its a scalene triangle')"
   ]
  },
  {
   "cell_type": "code",
   "execution_count": 18,
   "metadata": {},
   "outputs": [
    {
     "name": "stdout",
     "output_type": "stream",
     "text": [
      "1) Square\n",
      "2) Triangle\n",
      "Please select your menu number from above: 2\n",
      "Please enter the base value: 10\n",
      "Please enter the height30\n",
      "Area of Triangle:  150.0\n"
     ]
    }
   ],
   "source": [
    "print('''Menu:\n",
    "1) Square\n",
    "2) Triangle''')\n",
    "menu=int(input('Please select your menu number from above: '))\n",
    "if menu == 1:\n",
    "    side=int(input('Please enter the length of the side: '))\n",
    "    print('Area of square: ', 4*side)\n",
    "elif menu == 2:\n",
    "    base=int(input('Please enter the base value: '))\n",
    "    ht=int(input('Please enter the height'))\n",
    "    print('Area of Triangle: ', base*ht/2)\n",
    "else:\n",
    "    print('Error: You have selected an incorrect menu option')"
   ]
  },
  {
   "cell_type": "code",
   "execution_count": 54,
   "metadata": {},
   "outputs": [
    {
     "name": "stdout",
     "output_type": "stream",
     "text": [
      "[1 2 3]\n"
     ]
    }
   ],
   "source": [
    "import numpy as np\n",
    "x = np.array([1, 2, 3])\n",
    "print(x)"
   ]
  },
  {
   "cell_type": "code",
   "execution_count": 49,
   "metadata": {},
   "outputs": [],
   "source": [
    "dictname={'Key1': 'Value1', 'Key2': 2}"
   ]
  },
  {
   "cell_type": "code",
   "execution_count": 50,
   "metadata": {},
   "outputs": [
    {
     "data": {
      "text/plain": [
       "2"
      ]
     },
     "execution_count": 50,
     "metadata": {},
     "output_type": "execute_result"
    }
   ],
   "source": [
    "len(dictname)"
   ]
  },
  {
   "cell_type": "code",
   "execution_count": 7,
   "metadata": {},
   "outputs": [],
   "source": [
    "for i in range(20, 1):\n",
    "    print(i)"
   ]
  },
  {
   "cell_type": "code",
   "execution_count": 14,
   "metadata": {},
   "outputs": [
    {
     "data": {
      "text/plain": [
       "[10, 30, 20, [40], 50]"
      ]
     },
     "execution_count": 14,
     "metadata": {},
     "output_type": "execute_result"
    }
   ],
   "source": [
    "lis=[10, 30, 20]\n",
    "lis.append([40])\n",
    "lis.extend([50])\n",
    "lis"
   ]
  },
  {
   "cell_type": "code",
   "execution_count": 27,
   "metadata": {},
   "outputs": [
    {
     "name": "stdout",
     "output_type": "stream",
     "text": [
      "2\n"
     ]
    }
   ],
   "source": [
    "import random\n",
    "print(random.randint(1, 2))"
   ]
  },
  {
   "cell_type": "code",
   "execution_count": null,
   "metadata": {},
   "outputs": [],
   "source": []
  }
 ],
 "metadata": {
  "kernelspec": {
   "display_name": "Python 3",
   "language": "python",
   "name": "python3"
  },
  "language_info": {
   "codemirror_mode": {
    "name": "ipython",
    "version": 3
   },
   "file_extension": ".py",
   "mimetype": "text/x-python",
   "name": "python",
   "nbconvert_exporter": "python",
   "pygments_lexer": "ipython3",
   "version": "3.6.5"
  }
 },
 "nbformat": 4,
 "nbformat_minor": 2
}
