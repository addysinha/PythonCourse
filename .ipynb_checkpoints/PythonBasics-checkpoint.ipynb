{
 "cells": [
  {
   "cell_type": "code",
   "execution_count": 1,
   "metadata": {},
   "outputs": [],
   "source": [
    "num=10"
   ]
  },
  {
   "cell_type": "code",
   "execution_count": 2,
   "metadata": {},
   "outputs": [
    {
     "name": "stdout",
     "output_type": "stream",
     "text": [
      "My name is Addy.\n",
      "And I am trying multi-line\n",
      "'comment'\n"
     ]
    }
   ],
   "source": [
    "print('''My name is Addy.\n",
    "And I am trying multi-line\n",
    "\\'comment\\'''')"
   ]
  },
  {
   "cell_type": "code",
   "execution_count": 3,
   "metadata": {},
   "outputs": [
    {
     "name": "stdout",
     "output_type": "stream",
     "text": [
      "My name is Addy\n"
     ]
    }
   ],
   "source": [
    "string=\"My name is\"\n",
    "string+=\" Addy\"\n",
    "print(string)"
   ]
  },
  {
   "cell_type": "code",
   "execution_count": 9,
   "metadata": {},
   "outputs": [
    {
     "name": "stdout",
     "output_type": "stream",
     "text": [
      "Please enter your name: Abhyudaya Sinha\n",
      "Please enter your age: 34\n",
      "Your name is Abhyudaya Sinha and your age is: 34, and after 2 years I will be of age: 36\n"
     ]
    }
   ],
   "source": [
    "first=input('Please enter your name: ')\n",
    "age=input('Please enter your age: ')\n",
    "addage=int(age)+2\n",
    "print('Your name is ' + first + ' and your age is: ' + age + ', and after 2 years I will be of age: ' + str(addage))"
   ]
  },
  {
   "cell_type": "code",
   "execution_count": 10,
   "metadata": {},
   "outputs": [
    {
     "name": "stdout",
     "output_type": "stream",
     "text": [
      "Your length of the name is:  15 characters.\n"
     ]
    }
   ],
   "source": [
    "print(\"Your length of the name is: \", len(first), 'characters.')"
   ]
  },
  {
   "cell_type": "code",
   "execution_count": 13,
   "metadata": {},
   "outputs": [
    {
     "name": "stdout",
     "output_type": "stream",
     "text": [
      "First character is:  A \n",
      "First 3 characters are:  Abh \n",
      "Last 3 characters are:  nha\n",
      "Get all but first 3 characters:  yudaya Sinha \n",
      "Get all but last 3 characters:  Abhyudaya Si\n"
     ]
    }
   ],
   "source": [
    "print('First character is: ', first[0], '\\nFirst 3 characters are: ', first[:3], '\\nLast 3 characters are: ', first[-3:])\n",
    "print('Get all but first 3 characters: ', first[3:], '\\nGet all but last 3 characters: ', first[:-3])"
   ]
  },
  {
   "cell_type": "code",
   "execution_count": 17,
   "metadata": {},
   "outputs": [
    {
     "name": "stdout",
     "output_type": "stream",
     "text": [
      "Alternate characters of the name are:  AhuaaSna\n",
      "Reverse of the word is:  ahniS ayaduyhbA\n"
     ]
    }
   ],
   "source": [
    "print('Alternate characters of the name are: ', first[::2])\n",
    "print('Reverse of the word is: ', first[::-1])"
   ]
  },
  {
   "cell_type": "code",
   "execution_count": 28,
   "metadata": {},
   "outputs": [
    {
     "name": "stdout",
     "output_type": "stream",
     "text": [
      "Remove word Abhyudaya from the variable and predecessing blank space:  Sinha\n"
     ]
    }
   ],
   "source": [
    "print('Remove word Abhyudaya from the variable and predecessing blank space: ', first.lstrip('      Abhyudaya'))"
   ]
  },
  {
   "cell_type": "code",
   "execution_count": 30,
   "metadata": {},
   "outputs": [
    {
     "name": "stdout",
     "output_type": "stream",
     "text": [
      "Abhyudaya Sinha\n",
      "Abhyudaya Sinha\n",
      "Abhyudaya Sinha\n"
     ]
    }
   ],
   "source": [
    "print(first.lstrip()) #Remove blank space from the left side\n",
    "print(first.rstrip()) #Remove blank space from the right side\n",
    "print(first.strip()) #Remove blank space from both the sides"
   ]
  },
  {
   "cell_type": "code",
   "execution_count": 36,
   "metadata": {},
   "outputs": [
    {
     "name": "stdout",
     "output_type": "stream",
     "text": [
      "['My', 'Name', 'is', 'Abhyudaya', 'Sinha']\n",
      "['My', 'Name is Abhyudaya Sinha']\n",
      "my name is abhyudaya sinha\n",
      "MY NAME IS ABHYUDAYA SINHA\n",
      "My Name Is Abhyudaya Sinha\n"
     ]
    }
   ],
   "source": [
    "first=\"My Name is Abhyudaya Sinha\"\n",
    "print(first.split(' ')) #Delimiter is the blank space\n",
    "print(first.split(' ', 1)) #Apply the split using the delimiter just once (1)\n",
    "print(first.lower()) #Lower case\n",
    "print(first.upper()) #Upper case\n",
    "print(first.title()) #Title case - First letter of the word in capital"
   ]
  },
  {
   "cell_type": "code",
   "execution_count": 43,
   "metadata": {},
   "outputs": [
    {
     "name": "stdout",
     "output_type": "stream",
     "text": [
      "False\n",
      "False\n",
      "True\n",
      "False\n",
      "False\n",
      "False\n",
      "False\n",
      "True\n",
      "True\n"
     ]
    }
   ],
   "source": [
    "print(first.isalnum())\n",
    "print(first.isalpha())\n",
    "print(age.isdigit())\n",
    "print(first.istitle())\n",
    "print(first.isupper())\n",
    "print(first.islower())\n",
    "print(first.isspace())\n",
    "print(first.startswith('M'))\n",
    "print(first.endswith('a'))"
   ]
  },
  {
   "cell_type": "code",
   "execution_count": 57,
   "metadata": {},
   "outputs": [
    {
     "name": "stdout",
     "output_type": "stream",
     "text": [
      "None\n",
      "['a', 'a']\n",
      "['', 'bcdefghijklmanopqrstuvwxyz']\n",
      "bbcdefghijklmbnopqrstuvwxyz\n"
     ]
    }
   ],
   "source": [
    "import re\n",
    "text='abcdefghijklmanopqrstuvwxyz'\n",
    "match=re.search('3',text)\n",
    "findall=re.findall('a', text)\n",
    "split=re.split('a', text, 1)\n",
    "sub=re.sub('a','b',text)\n",
    "print(match)\n",
    "print(findall)\n",
    "print(split)\n",
    "print(sub)"
   ]
  },
  {
   "cell_type": "code",
   "execution_count": 53,
   "metadata": {},
   "outputs": [
    {
     "name": "stdout",
     "output_type": "stream",
     "text": [
      "No, there is no match\n"
     ]
    }
   ],
   "source": [
    "if match:\n",
    "    print(\"Yes, we have a match!\")\n",
    "else:\n",
    "    print(\"No, there is no match\")"
   ]
  },
  {
   "cell_type": "code",
   "execution_count": 60,
   "metadata": {},
   "outputs": [
    {
     "name": "stdout",
     "output_type": "stream",
     "text": [
      "Enter a num: 10\n",
      "30\n"
     ]
    }
   ],
   "source": [
    "number=int(input(\"Enter a num: \"))\n",
    "sum=number+20\n",
    "print(sum)"
   ]
  },
  {
   "cell_type": "code",
   "execution_count": null,
   "metadata": {},
   "outputs": [],
   "source": []
  }
 ],
 "metadata": {
  "kernelspec": {
   "display_name": "Python 3",
   "language": "python",
   "name": "python3"
  },
  "language_info": {
   "codemirror_mode": {
    "name": "ipython",
    "version": 3
   },
   "file_extension": ".py",
   "mimetype": "text/x-python",
   "name": "python",
   "nbconvert_exporter": "python",
   "pygments_lexer": "ipython3",
   "version": "3.6.5"
  }
 },
 "nbformat": 4,
 "nbformat_minor": 2
}
